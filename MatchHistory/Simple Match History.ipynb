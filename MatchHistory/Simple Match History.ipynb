{
 "cells": [
  {
   "cell_type": "code",
   "execution_count": 17,
   "metadata": {},
   "outputs": [],
   "source": [
    "import requests\n",
    "apiKey = INSERT_YOUR_API_KEY"
   ]
  },
  {
   "cell_type": "code",
   "execution_count": 18,
   "metadata": {},
   "outputs": [],
   "source": [
    "summonerName = \"wildstein\""
   ]
  },
  {
   "cell_type": "code",
   "execution_count": 21,
   "metadata": {},
   "outputs": [],
   "source": [
    "def getAccountId(name):\n",
    "    url = \"https://na1.api.riotgames.com/lol/summoner/v4/summoners/by-name/\"  + name + \"/\" + apiKey\n",
    "    return requests.get(url).json()[\"accountId\"]\n",
    "    "
   ]
  },
  {
   "cell_type": "code",
   "execution_count": 55,
   "metadata": {},
   "outputs": [
    {
     "data": {
      "text/plain": [
       "'_PoKxxf7IFMuttLdNBg9WX4hfdO9yZ-F1ALzPU65itxV61Y'"
      ]
     },
     "execution_count": 55,
     "metadata": {},
     "output_type": "execute_result"
    }
   ],
   "source": [
    "accountId = getAccountId(summonerName)\n",
    "accountId"
   ]
  },
  {
   "cell_type": "code",
   "execution_count": 58,
   "metadata": {},
   "outputs": [],
   "source": [
    "\n",
    "def getGameId(accountId, number):\n",
    "    url = \"https://na1.api.riotgames.com/lol/match/v4/matchlists/by-account/\" + accountId + \"/\" + apiKey\n",
    "    return requests.get(url).json()[\"matches\"][number]['gameId']\n",
    "def getChampId(accountId, number):\n",
    "    url = \"https://na1.api.riotgames.com/lol/match/v4/matchlists/by-account/\" + accountId + \"/\" + apiKey\n",
    "    return str(requests.get(url).json()[\"matches\"][number]['champion'])\n",
    "    "
   ]
  },
  {
   "cell_type": "code",
   "execution_count": 69,
   "metadata": {},
   "outputs": [
    {
     "name": "stdout",
     "output_type": "stream",
     "text": [
      "3280942038\n",
      "222\n"
     ]
    }
   ],
   "source": [
    "gameId = getGameId(accountId, 0)\n",
    "champId = getChampId(accountId, 0)\n",
    "print(gameId)\n",
    "print(champId)"
   ]
  },
  {
   "cell_type": "code",
   "execution_count": 87,
   "metadata": {},
   "outputs": [],
   "source": [
    "def displayHistory(numberOfGames):\n",
    "    for i in range(0, numberOfGames):\n",
    "        gameId = getGameId(accountId, i)\n",
    "        champId = getChampId(accountId, i)\n",
    "        url =  \"https://na1.api.riotgames.com/lol/match/v4/matches/\" + str(gameId) + apiKey\n",
    "        particpants = requests.get(url).json()[\"participants\"]\n",
    "        for participant in particpants:\n",
    "            if str(participant[\"championId\"]) == champId:\n",
    "                print(\"Kills \" + str(participant[\"stats\"][\"kills\"]))\n",
    "        "
   ]
  },
  {
   "cell_type": "code",
   "execution_count": 89,
   "metadata": {},
   "outputs": [
    {
     "name": "stdout",
     "output_type": "stream",
     "text": [
      "Kills 14\n",
      "Kills 25\n",
      "Kills 5\n",
      "Kills 9\n",
      "Kills 7\n",
      "Kills 12\n",
      "Kills 15\n",
      "Kills 17\n",
      "Kills 9\n",
      "Kills 3\n"
     ]
    }
   ],
   "source": [
    "displayHistory(10)"
   ]
  },
  {
   "cell_type": "code",
   "execution_count": null,
   "metadata": {},
   "outputs": [],
   "source": []
  },
  {
   "cell_type": "code",
   "execution_count": null,
   "metadata": {},
   "outputs": [],
   "source": []
  }
 ],
 "metadata": {
  "kernelspec": {
   "display_name": "Python 3",
   "language": "python",
   "name": "python3"
  },
  "language_info": {
   "codemirror_mode": {
    "name": "ipython",
    "version": 3
   },
   "file_extension": ".py",
   "mimetype": "text/x-python",
   "name": "python",
   "nbconvert_exporter": "python",
   "pygments_lexer": "ipython3",
   "version": "3.7.4"
  }
 },
 "nbformat": 4,
 "nbformat_minor": 2
}
