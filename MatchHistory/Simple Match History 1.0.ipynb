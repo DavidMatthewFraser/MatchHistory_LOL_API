{
 "cells": [
  {
   "cell_type": "code",
   "execution_count": 13,
   "metadata": {},
   "outputs": [],
   "source": [
    "import requests\n",
    "apiKey = \"?api_key=\"#Insert your API key"
   ]
  },
  {
   "cell_type": "code",
   "execution_count": 14,
   "metadata": {},
   "outputs": [],
   "source": [
    "summonerName = \"wildstein\""
   ]
  },
  {
   "cell_type": "code",
   "execution_count": 15,
   "metadata": {},
   "outputs": [],
   "source": [
    "def getAccountId(name):\n",
    "    url = \"https://na1.api.riotgames.com/lol/summoner/v4/summoners/by-name/\"  + name + \"/\" + apiKey\n",
    "    return requests.get(url).json()[\"accountId\"]\n",
    "    "
   ]
  },
  {
   "cell_type": "code",
   "execution_count": 16,
   "metadata": {},
   "outputs": [
    {
     "data": {
      "text/plain": [
       "'_PoKxxf7IFMuttLdNBg9WX4hfdO9yZ-F1ALzPU65itxV61Y'"
      ]
     },
     "execution_count": 16,
     "metadata": {},
     "output_type": "execute_result"
    }
   ],
   "source": [
    "accountId = getAccountId(summonerName)\n",
    "accountId"
   ]
  },
  {
   "cell_type": "code",
   "execution_count": 17,
   "metadata": {},
   "outputs": [],
   "source": [
    "\n",
    "def getGameId(accountId, number):\n",
    "    url = \"https://na1.api.riotgames.com/lol/match/v4/matchlists/by-account/\" + accountId + \"/\" + apiKey\n",
    "    return requests.get(url).json()[\"matches\"][number]['gameId']\n",
    "def getChampId(accountId, number):\n",
    "    url = \"https://na1.api.riotgames.com/lol/match/v4/matchlists/by-account/\" + accountId + \"/\" + apiKey\n",
    "    return str(requests.get(url).json()[\"matches\"][number]['champion'])\n",
    "    "
   ]
  },
  {
   "cell_type": "code",
   "execution_count": 34,
   "metadata": {},
   "outputs": [
    {
     "name": "stdout",
     "output_type": "stream",
     "text": [
      "3280942038\n",
      "222\n"
     ]
    }
   ],
   "source": [
    "gameId = getGameId(accountId, 0)\n",
    "champId = getChampId(accountId, 0)\n",
    "teamId = 0\n",
    "print(gameId)\n",
    "print(champId)"
   ]
  },
  {
   "cell_type": "code",
   "execution_count": 55,
   "metadata": {},
   "outputs": [],
   "source": [
    "def displayHistory(numberOfGames):\n",
    "    for i in range(0, numberOfGames):\n",
    "        gameId = getGameId(accountId, i)\n",
    "        champId = getChampId(accountId, i)\n",
    "        url =  \"https://na1.api.riotgames.com/lol/match/v4/matches/\" + str(gameId) + apiKey\n",
    "        particpants = requests.get(url).json()[\"participants\"]\n",
    "        kills =0;\n",
    "        deaths =0;\n",
    "        assists =0;\n",
    "        for participant in particpants:\n",
    "            if str(participant[\"championId\"]) == champId:\n",
    "                teamId = participant[\"teamId\"]\n",
    "                kills = participant[\"stats\"][\"kills\"]\n",
    "                deaths = participant[\"stats\"][\"deaths\"]\n",
    "                assists = participant[\"stats\"][\"assists\"]\n",
    "                if participant[\"stats\"][\"win\"]:\n",
    "                    print(\"WIN\")\n",
    "                else:\n",
    "                    print(\"LOSS\")\n",
    "                print(\"YOU:  \" + str(kills) + \"/\" + str(deaths) + \"/\" + str(assists))\n",
    "        teamKills = 0;\n",
    "        teamDeaths = 0;\n",
    "        teamAssists = 0;\n",
    "        for participant in particpants:\n",
    "            if participant[\"teamId\"] == teamId:\n",
    "                teamKills += participant[\"stats\"][\"kills\"]\n",
    "                teamDeaths += participant[\"stats\"][\"deaths\"]\n",
    "                teamAssists += participant[\"stats\"][\"assists\"]\n",
    "        #print(\"TEAM: \" + str(teamKills) + \"/\" + str(teamDeaths) + \"/\" + str(teamAssists) + \"\\n\")\n",
    "        print(\"TAVG: \" + str((teamKills-kills)/4) + \"/\" + str((teamDeaths-deaths)/4) + \"/\" + str((teamAssists-assists)/4) + \"\\n\")"
   ]
  },
  {
   "cell_type": "code",
   "execution_count": 56,
   "metadata": {},
   "outputs": [
    {
     "name": "stdout",
     "output_type": "stream",
     "text": [
      "LOSS\n",
      "YOU:  14/14/12\n",
      "TAVG: 8.5/9.0/11.5\n",
      "\n",
      "WIN\n",
      "YOU:  25/11/4\n",
      "TAVG: 6.75/10.75/11.5\n",
      "\n",
      "LOSS\n",
      "YOU:  5/9/4\n",
      "TAVG: 4.0/7.75/8.25\n",
      "\n",
      "LOSS\n",
      "YOU:  9/10/13\n",
      "TAVG: 5.75/6.0/11.75\n",
      "\n",
      "WIN\n",
      "YOU:  7/4/9\n",
      "TAVG: 6.25/4.25/7.0\n",
      "\n",
      "WIN\n",
      "YOU:  12/8/19\n",
      "TAVG: 8.0/4.75/10.25\n",
      "\n",
      "WIN\n",
      "YOU:  15/9/17\n",
      "TAVG: 11.25/12.75/14.0\n",
      "\n",
      "WIN\n",
      "YOU:  17/6/14\n",
      "TAVG: 7.5/3.75/8.75\n",
      "\n",
      "WIN\n",
      "YOU:  9/3/7\n",
      "TAVG: 5.0/3.0/6.75\n",
      "\n",
      "LOSS\n",
      "YOU:  3/6/1\n",
      "TAVG: 2.5/6.25/1.75\n",
      "\n"
     ]
    }
   ],
   "source": [
    "displayHistory(10)"
   ]
  },
  {
   "cell_type": "code",
   "execution_count": null,
   "metadata": {},
   "outputs": [],
   "source": []
  },
  {
   "cell_type": "code",
   "execution_count": null,
   "metadata": {},
   "outputs": [],
   "source": []
  }
 ],
 "metadata": {
  "kernelspec": {
   "display_name": "Python 3",
   "language": "python",
   "name": "python3"
  },
  "language_info": {
   "codemirror_mode": {
    "name": "ipython",
    "version": 3
   },
   "file_extension": ".py",
   "mimetype": "text/x-python",
   "name": "python",
   "nbconvert_exporter": "python",
   "pygments_lexer": "ipython3",
   "version": "3.7.4"
  }
 },
 "nbformat": 4,
 "nbformat_minor": 2
}
